{
 "cells": [
  {
   "cell_type": "markdown",
   "metadata": {},
   "source": [
    "#### cons(a, b) constructs a pair, and car(pair) and cdr(pair) returns the first and last element of that pair. For example, car(cons(3, 4)) returns 3, and cdr(cons(3, 4)) returns 4.\n",
    "#### Given this implementation of cons:<br>\n",
    "def cons(a, b):<br>\n",
    "    &ensp; def pair(f):<br>\n",
    "        &emsp; return f(a, b)<br>\n",
    "    &ensp; return pair<br>\n",
    "#### Implement car and cdr.\n"
   ]
  },
  {
   "cell_type": "code",
   "execution_count": 1,
   "metadata": {},
   "outputs": [],
   "source": [
    "def cons(a,b):\n",
    "    def pair(f):\n",
    "        return f(a, b)\n",
    "    return pair"
   ]
  },
  {
   "cell_type": "code",
   "execution_count": 2,
   "metadata": {},
   "outputs": [],
   "source": [
    "def car(c):\n",
    "    def af(a, b):\n",
    "        return a\n",
    "    return c(af)\n",
    "\n",
    "def cdr(c):\n",
    "    def af(a, b):\n",
    "        return b\n",
    "    return c(af)"
   ]
  },
  {
   "cell_type": "code",
   "execution_count": 3,
   "metadata": {},
   "outputs": [
    {
     "name": "stdout",
     "output_type": "stream",
     "text": [
      "<function cons.<locals>.pair at 0x00000244D09E6F78>\n",
      "<class 'function'>\n",
      "pair\n"
     ]
    }
   ],
   "source": [
    "tup = cons(10, -95)\n",
    "print(tup)\n",
    "print(type(tup))\n",
    "print(tup.__name__)"
   ]
  },
  {
   "cell_type": "code",
   "execution_count": 4,
   "metadata": {},
   "outputs": [],
   "source": [
    "assert car(tup) == 10\n",
    "assert cdr(tup) == -95"
   ]
  }
 ],
 "metadata": {
  "kernelspec": {
   "display_name": "Python 3",
   "language": "python",
   "name": "python3"
  },
  "language_info": {
   "codemirror_mode": {
    "name": "ipython",
    "version": 3
   },
   "file_extension": ".py",
   "mimetype": "text/x-python",
   "name": "python",
   "nbconvert_exporter": "python",
   "pygments_lexer": "ipython3",
   "version": "3.7.6"
  }
 },
 "nbformat": 4,
 "nbformat_minor": 4
}
