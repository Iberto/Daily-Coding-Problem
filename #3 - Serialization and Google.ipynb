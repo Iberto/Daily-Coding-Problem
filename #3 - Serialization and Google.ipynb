{
 "cells": [
  {
   "cell_type": "markdown",
   "metadata": {},
   "source": [
    "#### Given the root to a binary tree, implement serialize(root), which serializes the tree into a string, and deserialize(s), which deserializes the string back into the tree. For example, given the following Node class\n",
    "#### class Node:\n",
    "####       def __init__(self, val, left=None, right=None):\n",
    "####        self.val = val\n",
    "####        self.left = left\n",
    "####        self.right = right\n",
    "#### The following test should pass:\n",
    "#### node = Node('root', Node('left', Node('left.left')), Node('right'))\n",
    "#### assert deserialize(serialize(node)).left.left.val == 'left.left'\n",
    " "
   ]
  },
  {
   "cell_type": "code",
   "execution_count": 1,
   "metadata": {},
   "outputs": [],
   "source": [
    "class Node:\n",
    "    def __init__(self, val, left=None, right=None):\n",
    "        self.val = val\n",
    "        self.right = right\n",
    "        self.left = left\n",
    "        \n",
    "    def __repr__(self):\n",
    "        return repr((self.val, self.left, self.right)) # recursive call repr (this is yet a seralization)\n",
    "    \n",
    "    @staticmethod\n",
    "    def serialization(root):\n",
    "        ser = []\n",
    "        def pre_order(root):\n",
    "            if not root:\n",
    "                ser.append(\"-1\")\n",
    "            if root:\n",
    "                ser.append(root.val)\n",
    "                pre_order(root.left)\n",
    "                pre_order(root.right)\n",
    "        pre_order(root)\n",
    "        return ser\n",
    "    \n",
    "    @staticmethod\n",
    "    def deserialization(s):\n",
    "        values = iter(s)\n",
    "        def deserialize():\n",
    "            val = next(values)\n",
    "            if val == '-1':\n",
    "                return None\n",
    "            node = Node(val)\n",
    "            node.left = deserialize()\n",
    "            node.right = deserialize()\n",
    "            return node\n",
    "        return deserialize()"
   ]
  },
  {
   "cell_type": "code",
   "execution_count": 2,
   "metadata": {},
   "outputs": [
    {
     "name": "stdout",
     "output_type": "stream",
     "text": [
      "('root', ('left', ('left.left', None, None), None), ('right', None, None))\n"
     ]
    }
   ],
   "source": [
    "root = Node('root', Node('left', Node('left.left')), Node('right'))\n",
    "print(root)"
   ]
  },
  {
   "cell_type": "code",
   "execution_count": 3,
   "metadata": {},
   "outputs": [
    {
     "data": {
      "text/plain": [
       "['root', 'left', 'left.left', '-1', '-1', '-1', 'right', '-1', '-1']"
      ]
     },
     "execution_count": 3,
     "metadata": {},
     "output_type": "execute_result"
    }
   ],
   "source": [
    "ser = Node.serialization(root)\n",
    "ser"
   ]
  },
  {
   "cell_type": "code",
   "execution_count": 7,
   "metadata": {},
   "outputs": [
    {
     "name": "stdout",
     "output_type": "stream",
     "text": [
      "('root', ('left', ('left.left', None, None), None), ('right', None, None))\n"
     ]
    }
   ],
   "source": [
    "tree = Node.deserialization(ser)\n",
    "print(tree)"
   ]
  },
  {
   "cell_type": "code",
   "execution_count": 6,
   "metadata": {},
   "outputs": [],
   "source": [
    "assert Node.deserialization(Node.serialization(root)).left.left.val == 'left.left'"
   ]
  }
 ],
 "metadata": {
  "kernelspec": {
   "display_name": "Python 3",
   "language": "python",
   "name": "python3"
  },
  "language_info": {
   "codemirror_mode": {
    "name": "ipython",
    "version": 3
   },
   "file_extension": ".py",
   "mimetype": "text/x-python",
   "name": "python",
   "nbconvert_exporter": "python",
   "pygments_lexer": "ipython3",
   "version": "3.7.6"
  }
 },
 "nbformat": 4,
 "nbformat_minor": 4
}
