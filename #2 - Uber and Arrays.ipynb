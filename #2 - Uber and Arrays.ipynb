{
 "cells": [
  {
   "cell_type": "markdown",
   "metadata": {},
   "source": [
    "#####  Given an array of integers, return a new array such that each element at index i of the new array is the product of all the numbers in the original array except the one at i. For example, if our input was [1, 2, 3, 4, 5], the expected output would be [120, 60, 40, 30, 24]. If our input was [3, 2, 1], the expected output would be [2, 3, 6]."
   ]
  },
  {
   "cell_type": "code",
   "execution_count": 1,
   "metadata": {},
   "outputs": [],
   "source": [
    "from timeit import time"
   ]
  },
  {
   "cell_type": "code",
   "execution_count": 2,
   "metadata": {},
   "outputs": [],
   "source": [
    "# define a timing decorator\n",
    "def timing(f):\n",
    "    def wrap(*args):\n",
    "        start_time = time.time()\n",
    "        ret = f(*args)\n",
    "        end_time = time.time()\n",
    "        print(\"@timing decorator >>> {:} took {:.10f}\".format(f.__name__, (end_time-start_time)*1000.0))\n",
    "        return ret\n",
    "    return wrap"
   ]
  },
  {
   "cell_type": "code",
   "execution_count": 3,
   "metadata": {},
   "outputs": [],
   "source": [
    "# simplest function without using division\n",
    "@timing\n",
    "def function_1(X):\n",
    "    Y = [1 for _ in range(len(X))] # O(n)\n",
    "    for i in range(len(X)):\n",
    "        for j in range(len(X)):\n",
    "            if j!=i:\n",
    "                Y[i] = Y[i]*X[j] # O(n*(n-1))\n",
    "    # this function has a complexity of O(n) + O(n*(n-1)) ~ O(n^2)\n",
    "    return Y"
   ]
  },
  {
   "cell_type": "code",
   "execution_count": 10,
   "metadata": {},
   "outputs": [],
   "source": [
    "# define our input\n",
    "X = [x for x in range(1, 2000)]"
   ]
  },
  {
   "cell_type": "code",
   "execution_count": 11,
   "metadata": {},
   "outputs": [
    {
     "name": "stdout",
     "output_type": "stream",
     "text": [
      "@timing decorator >>> function_1 took 2443.9523220062\n"
     ]
    }
   ],
   "source": [
    "# run the algo\n",
    "Y = function_1(X)\n",
    "#print(Y[:2])"
   ]
  },
  {
   "cell_type": "code",
   "execution_count": 12,
   "metadata": {},
   "outputs": [],
   "source": [
    "# faster function using division\n",
    "@timing\n",
    "def function_2(X):\n",
    "    Y = []\n",
    "    product = 1\n",
    "    for x in X:\n",
    "        product = product*x # O(n)\n",
    "    for x in X:\n",
    "        Y.append(product//x) # O(n)\n",
    "    # this function has a complexity of 2*O(n) ~ O(n)\n",
    "    return Y"
   ]
  },
  {
   "cell_type": "code",
   "execution_count": 13,
   "metadata": {},
   "outputs": [
    {
     "name": "stdout",
     "output_type": "stream",
     "text": [
      "@timing decorator >>> function_2 took 22.9365825653\n"
     ]
    }
   ],
   "source": [
    "Y = function_2(X)\n",
    "#Y[:2]"
   ]
  },
  {
   "cell_type": "code",
   "execution_count": 16,
   "metadata": {},
   "outputs": [],
   "source": [
    "# faster function without using division\n",
    "\n",
    "# the idea was, given [1, 2, 3, 4] to compute 2 arrays:\n",
    "# 1) [1, x[0], x[0]*x[1], x[0]*x[1]*x[2]] -> [1, 1, 2, 6]\n",
    "# now \"reversing\" the original array and do the same\n",
    "# 2) [x[3]*x[2]*x[1], x[3]*x[2], x[3], 1] -> [24, 12, 4, 1]\n",
    "# finally multiply arr1 and arr2 -> [24, 12, 8, 6]\n",
    "@timing\n",
    "def function_3(X):\n",
    "    local_product = 1\n",
    "    Y = [None] * len(X)\n",
    "    for i in range(len(X)):\n",
    "        Y[i] = local_product\n",
    "        local_product = local_product * X[i]\n",
    "    local_product = 1\n",
    "    for i in range(len(X)-1, -1, -1):\n",
    "        Y[i] = Y[i] * local_product\n",
    "        local_product = local_product * X[i]\n",
    "    # the function has a complexity of ~O(n)\n",
    "    return Y"
   ]
  },
  {
   "cell_type": "code",
   "execution_count": 17,
   "metadata": {},
   "outputs": [
    {
     "name": "stdout",
     "output_type": "stream",
     "text": [
      "@timing decorator >>> function_3 took 134.9718570709\n"
     ]
    }
   ],
   "source": [
    "Y = function_3(X)\n",
    "#print(Y[:2])"
   ]
  },
  {
   "cell_type": "code",
   "execution_count": null,
   "metadata": {},
   "outputs": [],
   "source": []
  }
 ],
 "metadata": {
  "kernelspec": {
   "display_name": "Python 3",
   "language": "python",
   "name": "python3"
  },
  "language_info": {
   "codemirror_mode": {
    "name": "ipython",
    "version": 3
   },
   "file_extension": ".py",
   "mimetype": "text/x-python",
   "name": "python",
   "nbconvert_exporter": "python",
   "pygments_lexer": "ipython3",
   "version": "3.7.6"
  }
 },
 "nbformat": 4,
 "nbformat_minor": 4
}
