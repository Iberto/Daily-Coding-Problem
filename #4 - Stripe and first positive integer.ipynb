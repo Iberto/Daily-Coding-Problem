{
 "cells": [
  {
   "cell_type": "markdown",
   "metadata": {},
   "source": [
    "#### Given an array of integers, find the first missing positive integer in linear time and constant space. In other words, find the lowest positive integer that does not exist in the array. The array can contain duplicates and negative numbers as well.\n",
    "#### For example, the input [3, 4, -1, 1] should give 2. The input [1, 2, 0] should give 3.\n",
    "#### You can modify the input array in-place.\n"
   ]
  },
  {
   "cell_type": "code",
   "execution_count": 1,
   "metadata": {},
   "outputs": [],
   "source": [
    "from timeit import time\n",
    "from random import shuffle"
   ]
  },
  {
   "cell_type": "code",
   "execution_count": 2,
   "metadata": {},
   "outputs": [],
   "source": [
    "def timing(f):\n",
    "    def wrapper(*args):\n",
    "        start_t = time.time()\n",
    "        ret = f(*args)\n",
    "        print(\"@ {} takes {:.10f} ms\".format(f, (time.time()-start_t)*1000))\n",
    "        return ret\n",
    "    return wrapper"
   ]
  },
  {
   "cell_type": "code",
   "execution_count": 3,
   "metadata": {},
   "outputs": [],
   "source": [
    "X_1 = [3, 4, -1, 1] # should give 2\n",
    "X_2 = [0, 1, 2] # should give 3\n",
    "\n",
    "X_3 = [x for x in range(-5000, 100000)]\n",
    "X_3.remove(100) # should give 100\n",
    "shuffle(X_3)"
   ]
  },
  {
   "cell_type": "code",
   "execution_count": 4,
   "metadata": {},
   "outputs": [],
   "source": [
    "@timing\n",
    "def sorted_search(X):\n",
    "    X = sorted(X) # O(n log n) --> Timsort algorithm\n",
    "    n = 1\n",
    "    def search(X):\n",
    "        nonlocal n # to access n in outer stack\n",
    "        for el in X:   # O(n)\n",
    "            if el == n:\n",
    "                n = n + 1\n",
    "        return n\n",
    "    search(X)\n",
    "    return n\n",
    "    # O(2n * log n) ~ O(n log n)\n",
    "    # X : NO LINEAR TIME\n",
    "    # V : CONSTANT SPACE"
   ]
  },
  {
   "cell_type": "code",
   "execution_count": 5,
   "metadata": {},
   "outputs": [],
   "source": [
    "@timing\n",
    "def hashed_search(X):\n",
    "    X = set(X) # set in python uses hash table\n",
    "               # creation takes O(n) in space dimension\n",
    "    n = 1\n",
    "    def search(X):\n",
    "        nonlocal n\n",
    "        for el in X:\n",
    "            if el == n:\n",
    "                n = n + 1\n",
    "    search(X)\n",
    "    return n\n",
    "    # V : linear time\n",
    "    # X : extra space"
   ]
  },
  {
   "cell_type": "code",
   "execution_count": 6,
   "metadata": {},
   "outputs": [
    {
     "name": "stdout",
     "output_type": "stream",
     "text": [
      "@ <function sorted_search at 0x0000021A4BCB8DC8> takes 0.0000000000 ms\n",
      "@ <function sorted_search at 0x0000021A4BCB8DC8> takes 0.0000000000 ms\n",
      "@ <function sorted_search at 0x0000021A4BCB8DC8> takes 46.8745231628 ms\n"
     ]
    }
   ],
   "source": [
    "assert sorted_search(X_1) == 2\n",
    "assert sorted_search(X_2) == 3\n",
    "assert sorted_search(X_3) == 100"
   ]
  },
  {
   "cell_type": "code",
   "execution_count": 7,
   "metadata": {},
   "outputs": [
    {
     "name": "stdout",
     "output_type": "stream",
     "text": [
      "@ <function hashed_search at 0x0000021A4C021048> takes 0.0000000000 ms\n",
      "@ <function hashed_search at 0x0000021A4C021048> takes 0.0000000000 ms\n",
      "@ <function hashed_search at 0x0000021A4C021048> takes 18.9478397369 ms\n"
     ]
    }
   ],
   "source": [
    "assert hashed_search(X_1) == 2\n",
    "assert hashed_search(X_2) == 3\n",
    "assert hashed_search(X_3) == 100"
   ]
  },
  {
   "cell_type": "markdown",
   "metadata": {},
   "source": [
    "<p>Using set makes function a little bit fast:\n",
    "<br>HASHED SEARCH: ~ 19 ms\n",
    "<br>SORTED SEARCH: ~ 40 ms"
   ]
  },
  {
   "cell_type": "code",
   "execution_count": 8,
   "metadata": {},
   "outputs": [],
   "source": [
    "@timing\n",
    "def recursive_search(X):\n",
    "    def n(a, X):\n",
    "        for e in X:\n",
    "            if e == a:\n",
    "                return n(a+1, X)\n",
    "        return a\n",
    "    return n(1, X)\n",
    "\n",
    "@timing\n",
    "def recursive_search_with_split(X):\n",
    "    def split(X):\n",
    "        '''\n",
    "        Utility that puts all non-positive numbers on left side of the array\n",
    "        '''\n",
    "        j = 0\n",
    "        for i in range(len(X)):\n",
    "            if X[i] <= 0:\n",
    "                X[i], X[j] = X[j], X[i]\n",
    "                j += 1\n",
    "        return j\n",
    "    def n(a, X):\n",
    "        for e in X:\n",
    "            if e == a:\n",
    "                return n(a+1, X)\n",
    "        return a\n",
    "    return n(1, X[split(X):])"
   ]
  },
  {
   "cell_type": "code",
   "execution_count": 9,
   "metadata": {},
   "outputs": [
    {
     "name": "stdout",
     "output_type": "stream",
     "text": [
      "@ <function recursive_search at 0x0000021A4C021798> takes 0.0000000000 ms\n",
      "@ <function recursive_search at 0x0000021A4C021798> takes 0.0000000000 ms\n",
      "@ <function recursive_search at 0x0000021A4C021798> takes 225.3103256226 ms\n"
     ]
    }
   ],
   "source": [
    "assert recursive_search(X_1) == 2\n",
    "assert recursive_search(X_2) == 3\n",
    "assert recursive_search(X_3) == 100"
   ]
  },
  {
   "cell_type": "code",
   "execution_count": 10,
   "metadata": {},
   "outputs": [
    {
     "name": "stdout",
     "output_type": "stream",
     "text": [
      "@ <function recursive_search_with_split at 0x0000021A4C021558> takes 0.0000000000 ms\n",
      "@ <function recursive_search_with_split at 0x0000021A4C021558> takes 0.0000000000 ms\n",
      "@ <function recursive_search_with_split at 0x0000021A4C021558> takes 225.4338264465 ms\n"
     ]
    }
   ],
   "source": [
    "assert recursive_search_with_split(X_1) == 2\n",
    "assert recursive_search_with_split(X_2) == 3\n",
    "assert recursive_search_with_split(X_3) == 100"
   ]
  },
  {
   "cell_type": "code",
   "execution_count": 11,
   "metadata": {},
   "outputs": [],
   "source": [
    "@timing\n",
    "def check_presence(X):\n",
    "    X = X.copy() # in order to not modify the original one -> this makes the algo non constant in space -> comment this line!\n",
    "    neg = 0  \n",
    "    def split(X):\n",
    "        '''\n",
    "        Utility that puts all non-positive numbers on left side of the array\n",
    "        '''\n",
    "        j = 0\n",
    "        for i in range(len(X)):\n",
    "            if X[i] <= 0:\n",
    "                X[i], X[j] = X[j], X[i]\n",
    "                j += 1\n",
    "        return j\n",
    "    def find_positive(X):\n",
    "        '''\n",
    "        Supposing X's elements positive\n",
    "        '''\n",
    "        if max(X) == len(X):\n",
    "            return max(X)+1\n",
    "        \n",
    "        for i, num in enumerate(X):\n",
    "            num = abs(num)\n",
    "            if (num - 1) < len(X):\n",
    "                X[num - 1] = -1\n",
    "        \n",
    "        for i, num in enumerate(X):\n",
    "            if num > 0:\n",
    "                return i + 1\n",
    "    j = split(X)\n",
    "    return find_positive(X[j:])"
   ]
  },
  {
   "cell_type": "code",
   "execution_count": 12,
   "metadata": {},
   "outputs": [
    {
     "name": "stdout",
     "output_type": "stream",
     "text": [
      "@ <function check_presence at 0x0000021A4C021A68> takes 0.0000000000 ms\n",
      "@ <function check_presence at 0x0000021A4C021A68> takes 0.0000000000 ms\n",
      "@ <function check_presence at 0x0000021A4C021A68> takes 56.8530559540 ms\n"
     ]
    }
   ],
   "source": [
    "assert check_presence(X_1) == 2\n",
    "assert check_presence(X_2) == 3\n",
    "X_3 = [x for x in range(-5000, 100000)]\n",
    "X_3.remove(521) # should give 521\n",
    "assert check_presence(X_3) == 521"
   ]
  }
 ],
 "metadata": {
  "kernelspec": {
   "display_name": "Python 3",
   "language": "python",
   "name": "python3"
  },
  "language_info": {
   "codemirror_mode": {
    "name": "ipython",
    "version": 3
   },
   "file_extension": ".py",
   "mimetype": "text/x-python",
   "name": "python",
   "nbconvert_exporter": "python",
   "pygments_lexer": "ipython3",
   "version": "3.7.6"
  }
 },
 "nbformat": 4,
 "nbformat_minor": 4
}
